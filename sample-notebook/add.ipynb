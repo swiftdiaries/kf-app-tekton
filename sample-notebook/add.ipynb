{
 "cells": [
  {
   "cell_type": "code",
   "execution_count": 1,
   "metadata": {
    "papermill": {
     "duration": 0.666992,
     "end_time": "2020-03-17T21:41:49.102665",
     "exception": false,
     "start_time": "2020-03-17T21:41:48.435673",
     "status": "completed"
    },
    "tags": []
   },
   "outputs": [
    {
     "name": "stdout",
     "output_type": "stream",
     "text": [
      "Available kernels:\n",
      "  myenv                                                                 /Users/adselvar/Library/Jupyter/kernels/myenv\n",
      "  python2                                                               /Users/adselvar/Library/Jupyter/kernels/python2\n",
      "  python271664bit098dd6ceaad14308be337d5ade7ba80e                       /Users/adselvar/Library/Jupyter/kernels/python271664bit098dd6ceaad14308be337d5ade7ba80e\n",
      "  python3                                                               /Users/adselvar/Library/Jupyter/kernels/python3\n",
      "  python36864bitbasecondad456bdbd053049019021148b3c6fbf0f               /Users/adselvar/Library/Jupyter/kernels/python36864bitbasecondad456bdbd053049019021148b3c6fbf0f\n",
      "  python37564bitkubeflowfairingconda0d3a21184c0e4386ac41d04e5f2b3c34    /Users/adselvar/Library/Jupyter/kernels/python37564bitkubeflowfairingconda0d3a21184c0e4386ac41d04e5f2b3c34\n",
      "  python38064bitflyteconda9d4aa6a67a6d4370b4b2093184a6a2e8              /Users/adselvar/Library/Jupyter/kernels/python38064bitflyteconda9d4aa6a67a6d4370b4b2093184a6a2e8\n"
     ]
    }
   ],
   "source": [
    "%%bash\n",
    "jupyter kernelspec list"
   ]
  },
  {
   "cell_type": "code",
   "execution_count": 2,
   "metadata": {
    "papermill": {
     "duration": 0.011645,
     "end_time": "2020-03-17T21:41:49.118469",
     "exception": false,
     "start_time": "2020-03-17T21:41:49.106824",
     "status": "completed"
    },
    "tags": []
   },
   "outputs": [],
   "source": [
    "import platform"
   ]
  },
  {
   "cell_type": "code",
   "execution_count": 3,
   "metadata": {
    "collapsed": false,
    "inputHidden": false,
    "outputHidden": false,
    "papermill": {
     "duration": 0.013058,
     "end_time": "2020-03-17T21:41:49.135186",
     "exception": false,
     "start_time": "2020-03-17T21:41:49.122128",
     "status": "completed"
    },
    "tags": []
   },
   "outputs": [
    {
     "name": "stdout",
     "output_type": "stream",
     "text": [
      "Darwin\n"
     ]
    }
   ],
   "source": [
    "print(platform.uname()[0])"
   ]
  },
  {
   "cell_type": "code",
   "execution_count": null,
   "metadata": {
    "collapsed": false,
    "inputHidden": false,
    "outputHidden": false,
    "papermill": {
     "duration": 0.005711,
     "end_time": "2020-03-17T21:41:49.147244",
     "exception": false,
     "start_time": "2020-03-17T21:41:49.141533",
     "status": "completed"
    },
    "tags": []
   },
   "outputs": [],
   "source": []
  }
 ],
 "metadata": {
  "file_extension": ".py",
  "kernelspec": {
   "display_name": "Python 2.7.16 64-bit",
   "name": "python271664bit098dd6ceaad14308be337d5ade7ba80e"
  },
  "language_info": {
   "codemirror_mode": {
    "name": "ipython",
    "version": 3
   },
   "file_extension": ".py",
   "mimetype": "text/x-python",
   "name": "python",
   "nbconvert_exporter": "python",
   "pygments_lexer": "ipython3",
   "version": "3.8.0"
  },
  "mimetype": "text/x-python",
  "name": "python",
  "npconvert_exporter": "python",
  "nteract": {
   "version": "nteract-on-jupyter@2.1.3"
  },
  "papermill": {
   "duration": 1.65145,
   "end_time": "2020-03-17T21:41:49.155861",
   "environment_variables": {},
   "exception": null,
   "input_path": "sample-notebook/add.ipynb",
   "output_path": "sample-notebook/add.ipynb",
   "parameters": {},
   "start_time": "2020-03-17T21:41:47.504411",
   "version": "2.0.0"
  },
  "pygments_lexer": "ipython3",
  "version": 3
 },
 "nbformat": 4,
 "nbformat_minor": 2
}